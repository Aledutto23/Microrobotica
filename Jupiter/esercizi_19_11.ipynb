{
 "cells": [
  {
   "cell_type": "code",
   "execution_count": 1,
   "id": "b637b9dd",
   "metadata": {},
   "outputs": [],
   "source": [
    "import numpy as np"
   ]
  },
  {
   "cell_type": "markdown",
   "id": "9a490412",
   "metadata": {},
   "source": [
    "# esercizio 1"
   ]
  },
  {
   "cell_type": "code",
   "execution_count": 4,
   "id": "8437eec9",
   "metadata": {},
   "outputs": [
    {
     "name": "stdout",
     "output_type": "stream",
     "text": [
      "[[0. 1. 0. 1. 0. 1. 0. 1.]\n",
      " [0. 0. 0. 0. 0. 0. 0. 0.]\n",
      " [0. 1. 0. 1. 0. 1. 0. 1.]\n",
      " [0. 0. 0. 0. 0. 0. 0. 0.]\n",
      " [0. 1. 0. 1. 0. 1. 0. 1.]\n",
      " [0. 0. 0. 0. 0. 0. 0. 0.]\n",
      " [0. 1. 0. 1. 0. 1. 0. 1.]\n",
      " [0. 0. 0. 0. 0. 0. 0. 0.]]\n"
     ]
    }
   ],
   "source": [
    "mat_bin = np.zeros(shape = (8, 8))\n",
    "for i in range(8):\n",
    "    for j in range(8):\n",
    "        if i%2 == 0:\n",
    "            if j%2 == 1:\n",
    "                mat_bin[i][j] = 1\n",
    "            else:\n",
    "                mat_bin[i][j] = 0\n",
    "        else :\n",
    "            if c%2 == 0:\n",
    "                mat_bin[i][j] = 1\n",
    "            else:\n",
    "                mat_bin[i][j] = 0\n",
    "print(mat_bin)"
   ]
  },
  {
   "cell_type": "markdown",
   "id": "72794a8b",
   "metadata": {},
   "source": [
    "# esercizio 2"
   ]
  },
  {
   "cell_type": "code",
   "execution_count": 8,
   "id": "41172358",
   "metadata": {},
   "outputs": [
    {
     "name": "stdout",
     "output_type": "stream",
     "text": [
      "[[ 1  2  3  4]\n",
      " [ 2  3  4  5]\n",
      " [ 3  4  5  6]\n",
      " [ 4  5  6  7]\n",
      " [ 5  6  7  8]\n",
      " [ 6  7  8  9]\n",
      " [ 7  8  9 10]\n",
      " [ 8  9 10 11]\n",
      " [ 9 10 11 12]\n",
      " [10 11 12 13]\n",
      " [11 12 13 14]]\n"
     ]
    }
   ],
   "source": [
    "array = [1, 2, 3, 4, 5, 6, 7, 8, 9, 10, 11, 12, 13, 14]\n",
    "array2 = []\n",
    "for a in range(len(array)-3):\n",
    "    array2.append((array[a], array[a+1], array[a+2], array[a+3]))\n",
    "\n",
    "arr = np.array(array2, np.uint8)\n",
    "\n",
    "print(arr)"
   ]
  },
  {
   "cell_type": "markdown",
   "id": "339d126d",
   "metadata": {},
   "source": [
    "# esercizio 3"
   ]
  },
  {
   "cell_type": "code",
   "execution_count": 11,
   "id": "cf456528",
   "metadata": {},
   "outputs": [
    {
     "name": "stdout",
     "output_type": "stream",
     "text": [
      "Numero compagni di classe: 3\n"
     ]
    },
    {
     "data": {
      "text/plain": [
       "array([159.06084232, 174.29272361, 166.53725314])"
      ]
     },
     "execution_count": 11,
     "metadata": {},
     "output_type": "execute_result"
    }
   ],
   "source": [
    "num_classe = int(input(\"Numero compagni di classe: \"))\n",
    "minimo = float(np.random.randint(140, 150))\n",
    "massimo = float(np.random.randint(190, 200))\n",
    "\n",
    "centro = float(np.random.randint(minimo, massimo))\n",
    "scala = 10\n",
    "classe = np.random.normal(centro, scala, num_classe)\n",
    "\n",
    "\n",
    "\n",
    "classe"
   ]
  },
  {
   "cell_type": "code",
   "execution_count": null,
   "id": "6f18382f",
   "metadata": {},
   "outputs": [],
   "source": []
  }
 ],
 "metadata": {
  "kernelspec": {
   "display_name": "Python 3 (ipykernel)",
   "language": "python",
   "name": "python3"
  },
  "language_info": {
   "codemirror_mode": {
    "name": "ipython",
    "version": 3
   },
   "file_extension": ".py",
   "mimetype": "text/x-python",
   "name": "python",
   "nbconvert_exporter": "python",
   "pygments_lexer": "ipython3",
   "version": "3.9.7"
  }
 },
 "nbformat": 4,
 "nbformat_minor": 5
}
