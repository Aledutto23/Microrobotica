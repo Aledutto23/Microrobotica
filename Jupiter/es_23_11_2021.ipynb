{
 "cells": [
  {
   "cell_type": "code",
   "execution_count": 4,
   "id": "bdc14ec8",
   "metadata": {},
   "outputs": [
    {
     "name": "stdout",
     "output_type": "stream",
     "text": [
      "[ 8 12]\n"
     ]
    }
   ],
   "source": [
    "import numpy as np\n",
    "  \n",
    "array1 = np.array([12, 14, 8, 15, 16, 17])\n",
    "array2 = [2, 4, 5, 6, 7, 8, 9, 12]\n",
    "print(np.intersect1d(array1, array2)) # trovo i numeri uguali tra gli array"
   ]
  },
  {
   "cell_type": "code",
   "execution_count": null,
   "id": "88a9285c",
   "metadata": {},
   "outputs": [],
   "source": []
  }
 ],
 "metadata": {
  "kernelspec": {
   "display_name": "Python 3 (ipykernel)",
   "language": "python",
   "name": "python3"
  },
  "language_info": {
   "codemirror_mode": {
    "name": "ipython",
    "version": 3
   },
   "file_extension": ".py",
   "mimetype": "text/x-python",
   "name": "python",
   "nbconvert_exporter": "python",
   "pygments_lexer": "ipython3",
   "version": "3.9.7"
  }
 },
 "nbformat": 4,
 "nbformat_minor": 5
}
