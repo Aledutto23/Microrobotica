{
 "cells": [
  {
   "cell_type": "code",
   "execution_count": 1,
   "id": "b1628a1b",
   "metadata": {},
   "outputs": [],
   "source": [
    "import numpy as np"
   ]
  },
  {
   "cell_type": "code",
   "execution_count": 2,
   "id": "84072417",
   "metadata": {},
   "outputs": [
    {
     "data": {
      "text/plain": [
       "array([1, 2, 3, 4, 5])"
      ]
     },
     "execution_count": 2,
     "metadata": {},
     "output_type": "execute_result"
    }
   ],
   "source": [
    "arr = np.array([1,2,3,4,5])\n",
    "arr"
   ]
  },
  {
   "cell_type": "code",
   "execution_count": 3,
   "id": "a8ce8302",
   "metadata": {},
   "outputs": [
    {
     "name": "stdout",
     "output_type": "stream",
     "text": [
      "[99 99 99]\n"
     ]
    },
    {
     "data": {
      "text/plain": [
       "array([ 1, 99, 99, 99,  5])"
      ]
     },
     "execution_count": 3,
     "metadata": {},
     "output_type": "execute_result"
    }
   ],
   "source": [
    "b = arr[1:4] \n",
    "b[...] = 99\n",
    "print(b)\n",
    "arr"
   ]
  },
  {
   "cell_type": "markdown",
   "id": "932920c0",
   "metadata": {},
   "source": [
    "# Fancy indexing\n"
   ]
  },
  {
   "cell_type": "code",
   "execution_count": 4,
   "id": "d6346eef",
   "metadata": {},
   "outputs": [
    {
     "data": {
      "text/plain": [
       "array([1, 2, 3, 4, 5])"
      ]
     },
     "execution_count": 4,
     "metadata": {},
     "output_type": "execute_result"
    }
   ],
   "source": [
    "arr = np.array([1,2,3,4,5])\n",
    "arr"
   ]
  },
  {
   "cell_type": "code",
   "execution_count": 5,
   "id": "b872cfd4",
   "metadata": {},
   "outputs": [
    {
     "data": {
      "text/plain": [
       "array([1, 3, 5])"
      ]
     },
     "execution_count": 5,
     "metadata": {},
     "output_type": "execute_result"
    }
   ],
   "source": [
    "b = arr[[True,False,True,False,True]]\n",
    "b"
   ]
  },
  {
   "cell_type": "code",
   "execution_count": 6,
   "id": "536733f7",
   "metadata": {},
   "outputs": [
    {
     "data": {
      "text/plain": [
       "False"
      ]
     },
     "execution_count": 6,
     "metadata": {},
     "output_type": "execute_result"
    }
   ],
   "source": [
    "b.base in arr"
   ]
  },
  {
   "cell_type": "markdown",
   "id": "f1e86e43",
   "metadata": {},
   "source": [
    "esempio"
   ]
  },
  {
   "cell_type": "code",
   "execution_count": 7,
   "id": "644fc162",
   "metadata": {},
   "outputs": [
    {
     "name": "stdout",
     "output_type": "stream",
     "text": [
      "[5 5 6 1 5 4 3 6 2 3]\n",
      "[2 3 3 6 2 4 5 3 3 3]\n"
     ]
    }
   ],
   "source": [
    "dadoAlice = np.random.randint(1,7,10)\n",
    "dadoBob = np.random.randint(1,7,10)\n",
    "print(dadoAlice)\n",
    "print(dadoBob)"
   ]
  },
  {
   "cell_type": "code",
   "execution_count": 8,
   "id": "b4ad4032",
   "metadata": {},
   "outputs": [],
   "source": [
    "dado1 = np.random.randint(1,7,10)"
   ]
  },
  {
   "cell_type": "code",
   "execution_count": 9,
   "id": "a7afa01f",
   "metadata": {},
   "outputs": [
    {
     "data": {
      "text/plain": [
       "array([1, 2, 3, 4, 5])"
      ]
     },
     "execution_count": 9,
     "metadata": {},
     "output_type": "execute_result"
    }
   ],
   "source": [
    "a = np.array([1,2,3,4,5])\n",
    "a"
   ]
  },
  {
   "cell_type": "code",
   "execution_count": 10,
   "id": "8813d496",
   "metadata": {},
   "outputs": [
    {
     "data": {
      "text/plain": [
       "array([[1, 2, 3],\n",
       "       [3, 4, 5],\n",
       "       [5, 6, 7]])"
      ]
     },
     "execution_count": 10,
     "metadata": {},
     "output_type": "execute_result"
    }
   ],
   "source": [
    "mat = np.array([[1,2,3], [3,4,5], [5,6,7]])\n",
    "mat"
   ]
  },
  {
   "cell_type": "code",
   "execution_count": 11,
   "id": "1bc11c2f",
   "metadata": {},
   "outputs": [
    {
     "data": {
      "text/plain": [
       "5"
      ]
     },
     "execution_count": 11,
     "metadata": {},
     "output_type": "execute_result"
    }
   ],
   "source": [
    "mat[2][0]  #per prendere l'elemento nella prima colonna nella terza riga"
   ]
  },
  {
   "cell_type": "code",
   "execution_count": 12,
   "id": "a7ab6e53",
   "metadata": {},
   "outputs": [
    {
     "data": {
      "text/plain": [
       "array([1, 3, 5])"
      ]
     },
     "execution_count": 12,
     "metadata": {},
     "output_type": "execute_result"
    }
   ],
   "source": [
    "terza_colonna = mat[:,0]  #per prendere la prima colonna\n",
    "terza_colonna"
   ]
  },
  {
   "cell_type": "code",
   "execution_count": 13,
   "id": "59f6c59c",
   "metadata": {},
   "outputs": [
    {
     "data": {
      "text/plain": [
       "array([2, 2, 2])"
      ]
     },
     "execution_count": 13,
     "metadata": {},
     "output_type": "execute_result"
    }
   ],
   "source": [
    "terza_colonna[...] = 2  # per scrivere 2 su tutta la prima colonna\n",
    "terza_colonna"
   ]
  },
  {
   "cell_type": "code",
   "execution_count": 14,
   "id": "d72ca73a",
   "metadata": {},
   "outputs": [
    {
     "data": {
      "text/plain": [
       "array([[2, 2, 3],\n",
       "       [2, 4, 5],\n",
       "       [2, 6, 7]])"
      ]
     },
     "execution_count": 14,
     "metadata": {},
     "output_type": "execute_result"
    }
   ],
   "source": [
    "mat"
   ]
  },
  {
   "cell_type": "code",
   "execution_count": 15,
   "id": "8bf373aa",
   "metadata": {},
   "outputs": [
    {
     "data": {
      "text/plain": [
       "array([[1, 0, 1, 0, 0, 1, 0, 0, 0, 0],\n",
       "       [1, 1, 1, 1, 1, 0, 0, 0, 0, 0],\n",
       "       [0, 0, 0, 0, 0, 1, 0, 0, 1, 1],\n",
       "       [0, 0, 1, 0, 1, 1, 0, 0, 0, 1],\n",
       "       [0, 1, 0, 0, 1, 0, 1, 1, 0, 0],\n",
       "       [1, 1, 0, 1, 0, 0, 1, 0, 1, 1],\n",
       "       [1, 0, 1, 1, 0, 0, 0, 0, 1, 0],\n",
       "       [0, 0, 0, 0, 1, 1, 1, 0, 1, 1],\n",
       "       [0, 0, 0, 1, 0, 1, 0, 0, 0, 0],\n",
       "       [1, 1, 1, 1, 0, 0, 1, 0, 0, 0]])"
      ]
     },
     "execution_count": 15,
     "metadata": {},
     "output_type": "execute_result"
    }
   ],
   "source": [
    "mat = np.random.randint(0,2, size=(10,10))\n",
    "mat"
   ]
  }
 ],
 "metadata": {
  "kernelspec": {
   "display_name": "Python 3 (ipykernel)",
   "language": "python",
   "name": "python3"
  },
  "language_info": {
   "codemirror_mode": {
    "name": "ipython",
    "version": 3
   },
   "file_extension": ".py",
   "mimetype": "text/x-python",
   "name": "python",
   "nbconvert_exporter": "python",
   "pygments_lexer": "ipython3",
   "version": "3.9.7"
  }
 },
 "nbformat": 4,
 "nbformat_minor": 5
}
