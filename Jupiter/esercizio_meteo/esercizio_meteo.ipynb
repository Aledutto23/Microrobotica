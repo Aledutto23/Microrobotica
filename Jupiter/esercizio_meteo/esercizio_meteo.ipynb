{
 "cells": [
  {
   "cell_type": "code",
   "execution_count": 36,
   "id": "b93054c3",
   "metadata": {},
   "outputs": [],
   "source": [
    "import numpy as np"
   ]
  },
  {
   "cell_type": "code",
   "execution_count": 37,
   "id": "91e1133e",
   "metadata": {},
   "outputs": [
    {
     "name": "stdout",
     "output_type": "stream",
     "text": [
      "{'data1': array(['01/01/2018', '02/01/2018', '03/01/2018', ..., '03/12/2021',\n",
      "       '04/12/2021', '05/12/2021'], dtype='<U10'), 'oraMinimo': array(['23:59', '01:05', '22:25', ..., '02:10', '23:59', '18:15'],\n",
      "      dtype='<U5'), 'Tmin': array(['-11.2', '-12.3', '-6.5', ..., '-15.0', '-10.6', '-15.3'],\n",
      "      dtype='<U5'), 'classeMinimo': array(['0', '0', '0', ..., '0', '0', '0'], dtype='<U1'), 'Tmed': array(['-7.9', '-9.0', '-3.9', ..., '-10.1', '-5.5', '-13.2'], dtype='<U5'), 'classeMedia': array(['Z', 'Z', 'Z', ..., 'Z', 'Z', 'Z'], dtype='<U1'), 'oraMassimo': array(['01:30', '23:20', '08:45', ..., '20:55', '09:00', '00:05'],\n",
      "      dtype='<U5'), 'Tmax': array(['-4.2', '-3.3', '-0.8', ..., '-4.9', '-2.6', '-10.6'], dtype='<U5'), 'classeMassimo': array(['0', '0', '0', ..., '0', '0', '0'], dtype='<U1')}\n"
     ]
    }
   ],
   "source": [
    "data1 = []\n",
    "oraMinimo = []\n",
    "Tmin = []\n",
    "classeMinimo = []\n",
    "Tmed = []\n",
    "classeMedia = []\n",
    "oraMassimo = []\n",
    "Tmax = []\n",
    "classeMassimo = []\n",
    "diz1 = {}\n",
    "\n",
    "testo1 = open(\"richiesta_dati_gg_80749_parte1.csv\", \"r\") #apro il file\n",
    "for i in testo1.readlines()[10:-1]:\n",
    "    lista_valori = i.replace(\" \", \"\").replace(\"\\n\", \"\").split(\",\")\n",
    "    data1.append(lista_valori[0])\n",
    "    oraMinimo.append(lista_valori[1])\n",
    "    Tmin.append(lista_valori[2])\n",
    "    classeMinimo.append(lista_valori[3])\n",
    "    Tmed.append(lista_valori[4])\n",
    "    classeMedia.append(lista_valori[5])\n",
    "    oraMassimo.append(lista_valori[6])\n",
    "    Tmax.append(lista_valori[7])\n",
    "    classeMassimo.append(lista_valori[8])\n",
    "\n",
    "data1 = np.array(data1)\n",
    "diz1[\"data1\"] = data1\n",
    "\n",
    "oraMinimo = np.array(oraMinimo)\n",
    "diz1[\"oraMinimo\"] = oraMinimo\n",
    "\n",
    "Tmin = np.array(Tmin)\n",
    "diz1[\"Tmin\"] = Tmin\n",
    "\n",
    "classeMinimo = np.array(classeMinimo)\n",
    "diz1[\"classeMinimo\"] = classeMinimo\n",
    "\n",
    "Tmed = np.array(Tmed)\n",
    "diz1[\"Tmed\"] = Tmed\n",
    "\n",
    "classeMedia = np.array(classeMedia)\n",
    "diz1[\"classeMedia\"] = classeMedia\n",
    "\n",
    "oraMassimo = np.array(oraMassimo)\n",
    "diz1[\"oraMassimo\"] = oraMassimo\n",
    "\n",
    "Tmax = np.array(Tmax)\n",
    "diz1[\"Tmax\"] = Tmax\n",
    "\n",
    "classeMassimo = np.array(classeMassimo)\n",
    "diz1[\"classeMassimo\"] = classeMassimo\n",
    "\n",
    "    \n",
    "print(diz1)      \n",
    "testo1.close()"
   ]
  },
  {
   "cell_type": "code",
   "execution_count": 45,
   "id": "7009a3fa",
   "metadata": {},
   "outputs": [
    {
     "name": "stdout",
     "output_type": "stream",
     "text": [
      "{'data2': array(['01/01/2018', '02/01/2018', '03/01/2018', ..., '27/11/2021',\n",
      "       '28/11/2021', '29/11/2021'], dtype='<U10'), 'neve_al_suolo_2': array(['72', '71', '68', ..., '88', '84', '81'], dtype='<U3'), 'neve_fresca_2': array(['0', '3', '0', ..., '0', '0', '0'], dtype='<U2')}\n"
     ]
    }
   ],
   "source": [
    "data2 = []\n",
    "neve_al_suolo_2 = []\n",
    "neve_fresca_2 = []\n",
    "diz2 = {}\n",
    "\n",
    "testo2 = open(\"richiesta_dati_gg_80749_parte2.csv\", \"r\")\n",
    "for m in testo2.readlines()[10:-1]:\n",
    "    lista_valori2 = m.replace(\" \", \"\").replace(\"\\n\", \"\").split(\",\")\n",
    "    data2.append(lista_valori2[0])\n",
    "    neve_al_suolo_2.append(lista_valori2[1])\n",
    "    neve_fresca_2.append(lista_valori2[2])\n",
    "    \n",
    "    \n",
    "    \n",
    "data2 = np.array(data2)\n",
    "diz2[\"data2\"] = data2\n",
    "\n",
    "neve_al_suolo_2 = np.array(neve_al_suolo_2)\n",
    "diz2[\"neve_al_suolo_2\"] = neve_al_suolo_2\n",
    "\n",
    "neve_fresca_2 = np.array(neve_fresca_2)\n",
    "diz2[\"neve_fresca_2\"] = neve_fresca_2\n",
    "    \n",
    "print(diz2)    \n",
    "testo2.close()"
   ]
  },
  {
   "cell_type": "code",
   "execution_count": 39,
   "id": "d8d8922d",
   "metadata": {},
   "outputs": [
    {
     "name": "stdout",
     "output_type": "stream",
     "text": [
      "{'data3': array(['01/01/2018', '02/01/2018', '03/01/2018', ..., '03/12/2021',\n",
      "       '04/12/2021', '05/12/2021'], dtype='<U10'), 'oraMinimo3': array(['07:45', '06:15', '20:55', ..., '09:25', '02:40', '23:25'],\n",
      "      dtype='<U5'), 'Tmin3': array(['-4.1', '-3.9', '0.0', ..., '-8.4', '-3.4', '-7.9'], dtype='<U5'), 'classeMinimo3': array(['0', '0', '0', ..., '0', '0', '0'], dtype='<U1'), 'Tmed3': array(['-0.1', '-1.0', '5.1', ..., '-5.0', '2.0', '-4.8'], dtype='<U5'), 'classeMedia3': array(['Z', 'Z', 'Z', ..., 'Z', 'Z', 'Z'], dtype='<U1'), 'oraMassimo3': array(['12:50', '18:45', '07:50', ..., '23:30', '06:15', '00:15'],\n",
      "      dtype='<U5'), 'Tmax3': array(['4.1', '4.9', '10.7', ..., '4.3', '4.3', '-1.6'], dtype='<U5'), 'classeMassimo3': array(['0', '0', '0', ..., '0', '0', '0'], dtype='<U1')}\n"
     ]
    }
   ],
   "source": [
    "data3 = []\n",
    "oraMinimo3 = []\n",
    "Tmin3 = []\n",
    "classeMinimo3 = []\n",
    "Tmed3 = []\n",
    "classeMedia3 = []\n",
    "oraMassimo3 = []\n",
    "Tmax3 = []\n",
    "classeMassimo3 = []\n",
    "diz3 = {}\n",
    "\n",
    "testo3 = open(\"richiesta_dati_gg_80749_parte3.csv\", \"r\") #apro il file\n",
    "for n in testo3.readlines()[10:-1]:\n",
    "    lista_valori = n.replace(\" \", \"\").replace(\"\\n\", \"\").split(\",\")\n",
    "    data3.append(lista_valori[0])\n",
    "    oraMinimo3.append(lista_valori[1])\n",
    "    Tmin3.append(lista_valori[2])\n",
    "    classeMinimo3.append(lista_valori[3])\n",
    "    Tmed3.append(lista_valori[4])\n",
    "    classeMedia3.append(lista_valori[5])\n",
    "    oraMassimo3.append(lista_valori[6])\n",
    "    Tmax3.append(lista_valori[7])\n",
    "    classeMassimo3.append(lista_valori[8])\n",
    "\n",
    "data3 = np.array(data3)\n",
    "diz3[\"data3\"] = data3\n",
    "\n",
    "oraMinimo3 = np.array(oraMinimo3)\n",
    "diz3[\"oraMinimo3\"] = oraMinimo3\n",
    "\n",
    "Tmin3 = np.array(Tmin3)\n",
    "diz3[\"Tmin3\"] = Tmin3\n",
    "\n",
    "classeMinimo3 = np.array(classeMinimo3)\n",
    "diz3[\"classeMinimo3\"] = classeMinimo3\n",
    "\n",
    "Tmed3 = np.array(Tmed3)\n",
    "diz3[\"Tmed3\"] = Tmed3\n",
    "\n",
    "classeMedia3 = np.array(classeMedia3)\n",
    "diz3[\"classeMedia3\"] = classeMedia3\n",
    "\n",
    "oraMassimo3 = np.array(oraMassimo3)\n",
    "diz3[\"oraMassimo3\"] = oraMassimo3\n",
    "\n",
    "Tmax3 = np.array(Tmax3)\n",
    "diz3[\"Tmax3\"] = Tmax3\n",
    "\n",
    "classeMassimo3 = np.array(classeMassimo3)\n",
    "diz3[\"classeMassimo3\"] = classeMassimo3\n",
    "\n",
    "    \n",
    "print(diz3)      \n",
    "testo3.close()"
   ]
  },
  {
   "cell_type": "code",
   "execution_count": 40,
   "id": "b4825126",
   "metadata": {},
   "outputs": [
    {
     "name": "stdout",
     "output_type": "stream",
     "text": [
      "{'data4': array(['01/01/2018', '02/01/2018', '03/01/2018', ..., '27/11/2021',\n",
      "       '28/11/2021', '29/11/2021'], dtype='<U10'), 'neve_al_suolo_4': array(['51', '57', '50', ..., '94', '91', '91'], dtype='<U3'), 'neve_fresca_4': array(['0', '6', '0', ..., '0', '0', '0'], dtype='<U2')}\n"
     ]
    }
   ],
   "source": [
    "data4 = []\n",
    "neve_al_suolo_4 = []\n",
    "neve_fresca_4 = []\n",
    "diz4 = {}\n",
    "\n",
    "testo4 = open(\"richiesta_dati_gg_80749_parte4.csv\", \"r\")\n",
    "for j in testo4.readlines()[10:-1]:\n",
    "    lista_valori2 = j.replace(\" \", \"\").replace(\"\\n\", \"\").split(\",\")\n",
    "    data4.append(lista_valori2[0])\n",
    "    neve_al_suolo_4.append(lista_valori2[1])\n",
    "    neve_fresca_4.append(lista_valori2[2])\n",
    "    \n",
    "data4 = np.array(data4)\n",
    "diz4[\"data4\"] = data4\n",
    "\n",
    "neve_al_suolo_4 = np.array(neve_al_suolo_4)\n",
    "diz4[\"neve_al_suolo_4\"] = neve_al_suolo_4\n",
    "\n",
    "neve_fresca_4 = np.array(neve_fresca_4)\n",
    "diz4[\"neve_fresca_4\"] = neve_fresca_4\n",
    "    \n",
    "print(diz4)    \n",
    "testo4.close()"
   ]
  },
  {
   "cell_type": "code",
   "execution_count": null,
   "id": "06a96fa8",
   "metadata": {},
   "outputs": [],
   "source": []
  }
 ],
 "metadata": {
  "kernelspec": {
   "display_name": "Python 3 (ipykernel)",
   "language": "python",
   "name": "python3"
  },
  "language_info": {
   "codemirror_mode": {
    "name": "ipython",
    "version": 3
   },
   "file_extension": ".py",
   "mimetype": "text/x-python",
   "name": "python",
   "nbconvert_exporter": "python",
   "pygments_lexer": "ipython3",
   "version": "3.9.7"
  }
 },
 "nbformat": 4,
 "nbformat_minor": 5
}
