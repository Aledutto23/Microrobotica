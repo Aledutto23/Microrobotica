{
 "cells": [
  {
   "cell_type": "code",
   "execution_count": 1,
   "id": "1b91093b",
   "metadata": {},
   "outputs": [],
   "source": [
    "import numpy as np"
   ]
  },
  {
   "cell_type": "markdown",
   "id": "20507310",
   "metadata": {},
   "source": [
    "1)Creare una funzione che inverta un ndarray monodimensionale, ovvero crei un array monodimensionale con gli stessi elementi dell'array di partenza in ordine inverso."
   ]
  },
  {
   "cell_type": "code",
   "execution_count": 10,
   "id": "68783677",
   "metadata": {},
   "outputs": [
    {
     "data": {
      "text/plain": [
       "array([ 1.4222957 ,  1.00561488,  0.39312315, -0.96262719,  1.21243243,\n",
       "       -0.86088234,  1.51217494,  2.19678562, -0.82509114,  0.82121032])"
      ]
     },
     "execution_count": 10,
     "metadata": {},
     "output_type": "execute_result"
    }
   ],
   "source": [
    "a = np.random.normal(size = 10)\n",
    "a"
   ]
  },
  {
   "cell_type": "code",
   "execution_count": 11,
   "id": "06af5700",
   "metadata": {},
   "outputs": [
    {
     "data": {
      "text/plain": [
       "array([ 0.82121032, -0.82509114,  2.19678562,  1.51217494, -0.86088234,\n",
       "        1.21243243, -0.96262719,  0.39312315,  1.00561488,  1.4222957 ])"
      ]
     },
     "execution_count": 11,
     "metadata": {},
     "output_type": "execute_result"
    }
   ],
   "source": [
    "a_inv = a[::-1]\n",
    "a_inv"
   ]
  },
  {
   "cell_type": "markdown",
   "id": "9f6a90c8",
   "metadata": {},
   "source": [
    "2)Generare un array Numpy che contenga le posizioni dei primi 100 numeri primi all'interno dei numeri naturali."
   ]
  },
  {
   "cell_type": "code",
   "execution_count": 31,
   "id": "f05a2fab",
   "metadata": {},
   "outputs": [],
   "source": [
    "def isprime(n):\n",
    "    ret = True\n",
    "    for i in range(2,int(n**0.5)+1):\n",
    "        if n%i==0:\n",
    "            ret = False\n",
    "            break\n",
    "    return ret\n",
    "isprime_v = np.vectorize(isprime)"
   ]
  },
  {
   "cell_type": "code",
   "execution_count": 50,
   "id": "7cc18495",
   "metadata": {},
   "outputs": [
    {
     "data": {
      "text/plain": [
       "array([  3,   4,   6,   8,  12,  14,  18,  20,  24,  30,  32,  38,  42,\n",
       "        44,  48,  54,  60,  62,  68,  72,  74,  80,  84,  90,  98, 102,\n",
       "       104, 108, 110, 114, 128, 132, 138, 140, 150, 152, 158, 164, 168,\n",
       "       174, 180, 182, 192, 194, 198, 200, 212, 224, 228, 230, 234, 240,\n",
       "       242, 252, 258, 264, 270, 272, 278, 282, 284, 294, 308, 312, 314,\n",
       "       318, 332, 338, 348, 350, 354, 360, 368, 374, 380, 384, 390, 398,\n",
       "       402, 410, 420, 422, 432, 434, 440, 444, 450, 458, 462, 464, 468,\n",
       "       480, 488, 492, 500, 504, 510, 522, 524, 542])"
      ]
     },
     "execution_count": 50,
     "metadata": {},
     "output_type": "execute_result"
    }
   ],
   "source": [
    "natural_n = np.arange(2,1000)\n",
    "(natural_n[isprime_v(natural_n)]+1)[:100]"
   ]
  },
  {
   "cell_type": "markdown",
   "id": "dbe43aac",
   "metadata": {},
   "source": [
    "3)Generare un array Numpy contenente i primi 10 numeri di Fibonacci"
   ]
  },
  {
   "cell_type": "code",
   "execution_count": 48,
   "id": "27ba599e",
   "metadata": {},
   "outputs": [
    {
     "data": {
      "text/plain": [
       "array([ 1,  2,  3,  5,  8, 13, 21, 34, 55, 89])"
      ]
     },
     "execution_count": 48,
     "metadata": {},
     "output_type": "execute_result"
    }
   ],
   "source": [
    "n = 11\n",
    "start = np.ones(11,dtype=int)\n",
    "for i in range(2,n):\n",
    "    start[i]=start[i-1]+start[i-2]\n",
    "start[1:]"
   ]
  }
 ],
 "metadata": {
  "kernelspec": {
   "display_name": "Python 3 (ipykernel)",
   "language": "python",
   "name": "python3"
  },
  "language_info": {
   "codemirror_mode": {
    "name": "ipython",
    "version": 3
   },
   "file_extension": ".py",
   "mimetype": "text/x-python",
   "name": "python",
   "nbconvert_exporter": "python",
   "pygments_lexer": "ipython3",
   "version": "3.9.7"
  }
 },
 "nbformat": 4,
 "nbformat_minor": 5
}
