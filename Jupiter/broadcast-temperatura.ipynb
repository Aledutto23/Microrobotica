{
 "cells": [
  {
   "cell_type": "code",
   "execution_count": 50,
   "id": "e16003b2",
   "metadata": {},
   "outputs": [],
   "source": [
    "import numpy as np\n",
    "import random\n",
    "import uuid"
   ]
  },
  {
   "cell_type": "markdown",
   "id": "737469eb",
   "metadata": {},
   "source": [
    "### Broadcast"
   ]
  },
  {
   "cell_type": "code",
   "execution_count": 51,
   "id": "2adc0dc9",
   "metadata": {},
   "outputs": [
    {
     "data": {
      "text/plain": [
       "array([ 0,  1,  2,  3,  4,  5,  6,  7,  8,  9, 10])"
      ]
     },
     "execution_count": 51,
     "metadata": {},
     "output_type": "execute_result"
    }
   ],
   "source": [
    "a = np.arange(0,11)\n",
    "a"
   ]
  },
  {
   "cell_type": "code",
   "execution_count": 52,
   "id": "2a10e37e",
   "metadata": {},
   "outputs": [
    {
     "data": {
      "text/plain": [
       "array([ 5,  6,  7,  8,  9, 10, 11, 12, 13, 14, 15])"
      ]
     },
     "execution_count": 52,
     "metadata": {},
     "output_type": "execute_result"
    }
   ],
   "source": [
    "a + 5"
   ]
  },
  {
   "cell_type": "code",
   "execution_count": 53,
   "id": "bd49b26d",
   "metadata": {},
   "outputs": [
    {
     "data": {
      "text/plain": [
       "array([[ 0,  1,  2,  3,  4,  5,  6,  7,  8,  9, 10]])"
      ]
     },
     "execution_count": 53,
     "metadata": {},
     "output_type": "execute_result"
    }
   ],
   "source": [
    "b = a.reshape((-1,11))\n",
    "b"
   ]
  },
  {
   "cell_type": "code",
   "execution_count": 54,
   "id": "35735b89",
   "metadata": {},
   "outputs": [
    {
     "data": {
      "text/plain": [
       "array([100., 100., 100., 100., 100., 100., 100., 100., 100., 100., 100.])"
      ]
     },
     "execution_count": 54,
     "metadata": {},
     "output_type": "execute_result"
    }
   ],
   "source": [
    "c = np.ones(11)*100\n",
    "c"
   ]
  },
  {
   "cell_type": "code",
   "execution_count": 55,
   "id": "4cd5e588",
   "metadata": {},
   "outputs": [
    {
     "data": {
      "text/plain": [
       "array([[100., 101., 102., 103., 104., 105., 106., 107., 108., 109., 110.]])"
      ]
     },
     "execution_count": 55,
     "metadata": {},
     "output_type": "execute_result"
    }
   ],
   "source": [
    "b+c"
   ]
  },
  {
   "cell_type": "markdown",
   "id": "053603a8",
   "metadata": {},
   "source": [
    "## termoscanner"
   ]
  },
  {
   "cell_type": "code",
   "execution_count": 69,
   "id": "25f5ada9",
   "metadata": {},
   "outputs": [
    {
     "name": "stdout",
     "output_type": "stream",
     "text": [
      "passeggero: f036e873-74d1-4492-a508-238fd175fa9d, di temperatura: 37.51569215334492\n",
      "passeggero: 2977de5c-9585-4374-b8ed-e9a5ae728f1a, di temperatura: 37.502495315424376\n",
      "passeggero: 384b220d-c75d-4749-953f-81a840da3c16, di temperatura: 37.54893921235039\n",
      "passeggero: fe896feb-69e1-423e-bc58-5231a254ad6e, di temperatura: 37.5014352301527\n",
      "passeggero: 95812ad1-de5a-4e6d-8c82-47cf62a516e9, di temperatura: 37.57802453700224\n",
      "passeggero: dd46a894-b01d-4b50-9bf7-e2f049f88293, di temperatura: 37.54922778000389\n",
      "passeggero: c302b288-de68-4dfe-9270-e744ca767114, di temperatura: 37.50697369018059\n",
      "passeggero: 3b3e5044-c2a7-4c1f-8539-8b714929969f, di temperatura: 37.59148438995256\n",
      "passeggero: a243b536-993d-47cb-a44c-3f348d602e02, di temperatura: 37.55516755984711\n",
      "passeggero: 2eb9cc81-8254-41fc-a068-146f7d008551, di temperatura: 37.55039505602166\n",
      "passeggero: 1efd92eb-ae99-4f67-b743-ed0d8f8b0a01, di temperatura: 37.51085340118686\n",
      "passeggero: 0c9e4f23-5307-4742-bc31-d30d819f56f3, di temperatura: 37.593196987779216\n",
      "passeggero: 2c5d1f5f-3b6b-466b-b50f-77fd07d381a5, di temperatura: 37.52993858342394\n",
      "passeggero: 1b98f8dd-a0c4-46b4-9d40-69c2c7be3fc0, di temperatura: 37.532888714777236\n",
      "passeggero: ab8681f6-1431-4a2a-bf14-c11207d40b0d, di temperatura: 37.5049337630957\n",
      "passeggero: c661b130-bf0f-4fcf-9c61-4ac3d4ec9b2e, di temperatura: 37.54268098398177\n",
      "passeggero: 47b8f712-e0ce-4bc4-bc1e-9fd8b44a1c11, di temperatura: 37.51573523595516\n",
      "passeggero: 53a43b9e-a6a3-4724-84a8-89da063b42f7, di temperatura: 37.52415590462924\n",
      "passeggero: 18ab14af-0b02-4c21-97b1-f0fd2af119a2, di temperatura: 37.52948493538442\n",
      "passeggero: 5737b44d-c102-49f2-b6db-c13d3fe11cbf, di temperatura: 38.031255103735994\n",
      "passeggero: f0e3e029-e937-4985-bcbc-3f6a1f18b249, di temperatura: 37.60119521167794\n",
      "passeggero: ec263245-b1ed-4897-b8f4-cc91f8ad4a70, di temperatura: 37.610431856282666\n",
      "passeggero: da04fc7f-da5a-4035-8edd-ed7545971475, di temperatura: 37.51944971628743\n",
      "passeggero: 410d519e-ccc8-4682-a42e-546631b634c8, di temperatura: 37.50045028715981\n",
      "passeggero: 524ea1ca-2de7-4b5f-a103-68571215f20b, di temperatura: 37.56891772868547\n",
      "passeggero: f4cbfca7-860e-402c-b3f6-c2e7917b9ad1, di temperatura: 37.59158805479296\n",
      "passeggero: 4c8bf71c-c5bb-4132-b59d-01b201fab77c, di temperatura: 37.53259409023153\n",
      "passeggero: 56d251d7-b1ec-4ddf-a2c5-82a82a7a580e, di temperatura: 37.60740997271048\n",
      "passeggero: 12f87e74-44e0-4268-9fda-d97682e53f8d, di temperatura: 37.564435741588014\n",
      "passeggero: e4902899-75b4-45ec-9b20-ce219f2d4c34, di temperatura: 37.528408891851115\n",
      "passeggero: d2aa5232-2362-4840-88b3-7a1802897235, di temperatura: 37.562522391733054\n",
      "passeggero: 70ddf172-d945-4df2-87b4-4204d8a151da, di temperatura: 37.57734196222477\n",
      "passeggero: 0805c256-18e6-4b83-9aca-89fa7f25799a, di temperatura: 37.50827414465615\n",
      "passeggero: 572ea80b-7bf2-4609-b297-762577f04bbe, di temperatura: 37.50839298447624\n",
      "passeggero: 582a5dd0-c700-4b35-8a7c-c77cd6e78781, di temperatura: 37.5324138462565\n",
      "passeggero: b0c893d6-712a-4285-9910-c3e3161f34cc, di temperatura: 37.60094479201372\n",
      "passeggero: 0f9a1d31-0004-402a-800d-3d585e53ecf4, di temperatura: 37.50287898477444\n",
      "passeggero: a1981072-406a-4941-a555-af3f71c7d41f, di temperatura: 37.57991493490066\n",
      "passeggero: 548fbc9b-b18b-4a42-b907-752fbb33d9a5, di temperatura: 37.54190835940508\n",
      "passeggero: 3a50ec16-8337-4237-b958-6a785c7f7f5e, di temperatura: 37.60223440797357\n",
      "passeggero: a4c8f3ac-0662-46bf-a180-f4feaee63ddf, di temperatura: 37.55584061725551\n",
      "passeggero: 04a187a8-9b6f-4d14-a3d2-530ba56d5914, di temperatura: 37.531743535255046\n",
      "passeggero: 9227fc88-5121-4441-a272-259ee7efe7b2, di temperatura: 37.66059280232255\n",
      "passeggero: 6d8bb4b7-bbe7-4590-9c17-20c03641a7f0, di temperatura: 37.51347875206446\n",
      "passeggero: 282550b1-fe97-443f-8898-0e47547c04f1, di temperatura: 37.52819191730314\n",
      "passeggero: 147036a4-7873-4f60-be40-9bfd445d59b7, di temperatura: 37.61359097925962\n",
      "passeggero: 1a2f7ad5-eafe-4eb8-8ab2-9ab61e1d501f, di temperatura: 37.54140884666485\n",
      "passeggero: 38cc7a1d-202f-41e9-b285-e1623aadcabf, di temperatura: 37.7536868300247\n",
      "passeggero: 98dd8772-160f-4951-9d25-e3f59f061137, di temperatura: 37.57388061350174\n",
      "passeggero: 36b40dd2-fd77-42bf-80e4-adf3c5ec5b34, di temperatura: 37.61863669995935\n",
      "passeggero: d230e897-a844-4510-beff-128be5bed697, di temperatura: 37.74684999474806\n",
      "passeggero: 5958aba2-24b0-47ec-8487-9f735ffca945, di temperatura: 37.51821906455321\n",
      "passeggero: 103c3089-9b16-4ed0-9228-0655df561bed, di temperatura: 37.57286701427342\n",
      "passeggero: 8983d428-fd12-4267-b484-4f09f258a717, di temperatura: 37.6144442189391\n",
      "passeggero: 9277e928-81a0-4475-ab67-494cc25b5756, di temperatura: 37.51123962022718\n",
      "passeggero: b3d2e37e-1b88-4535-ae73-06415ac5f758, di temperatura: 37.56561942258325\n",
      "passeggero: 38cedaad-0407-4a1a-85e0-e04e2c0c7e11, di temperatura: 37.50672685596872\n",
      "passeggero: 6e0d6d95-9624-46db-a4f5-9578faacf5b1, di temperatura: 37.675732863179455\n",
      "passeggero: c6efdc0a-c15b-4d02-aad8-5947314028a6, di temperatura: 37.70568497775482\n",
      "passeggero: b627737d-52fe-47ec-873a-290b25fe4d3e, di temperatura: 37.55756805031436\n",
      "passeggero: 2fa35a40-e95b-4b54-98a6-dec3f39caabe, di temperatura: 37.66142174939583\n",
      "passeggero: 54f06025-c673-4d15-a2b8-e48fef648bc6, di temperatura: 37.54774829091348\n",
      "passeggero: ae8a1ee7-9f39-4b6a-856a-0d6959e6be4c, di temperatura: 37.548942813732495\n",
      "passeggero: 57ae62a3-e86d-4f3f-a47e-74c615bb3c47, di temperatura: 37.732790832564035\n",
      "passeggero: 047c1eb7-d957-4bf6-8fb2-c5d49c2834be, di temperatura: 37.596863278341424\n",
      "passeggero: fb9437df-5335-4974-809f-c716c41b8287, di temperatura: 37.517554242721395\n",
      "passeggero: 970f38fb-f800-4031-b51e-22c5fce148af, di temperatura: 37.66782323984818\n",
      "passeggero: d20780c2-c4c6-4e95-a510-ac864f1b579f, di temperatura: 37.50417157252311\n",
      "passeggero: cf928455-392c-4f6f-a645-a8cc04e61db5, di temperatura: 37.56915561559624\n",
      "passeggero: 940e29dd-63df-4af1-924c-43deb04b9f26, di temperatura: 37.57958108012999\n",
      "passeggero: 97c6f186-9484-434e-b544-3de8fea6af40, di temperatura: 37.59702855308413\n",
      "passeggero: 0d442f8b-65d0-4ace-b2ab-1c9c88370dd3, di temperatura: 37.50070449686099\n",
      "passeggero: 41cf9107-ebb3-4abf-acaf-41a234d52bf2, di temperatura: 37.57519298479669\n",
      "passeggero: 6f39a831-56ec-40ad-9e00-1355fae7593d, di temperatura: 37.574889233636355\n",
      "passeggero: fb735b25-ee70-469d-94b7-8429d6409e53, di temperatura: 37.5041797139932\n"
     ]
    }
   ],
   "source": [
    "n_passeggeri = 2000000\n",
    "Temperature = np.random.normal(36.5,0.25,n_passeggeri)\n",
    "identificativi = np.array([str(uuid.uuid4()) for _ in range(n_passeggeri)])\n",
    "for i, t in zip(identificativi, Temperature):\n",
    "    if t > 37.5:\n",
    "        print(f\"passeggero: {i}, di temperatura: {t}\" )"
   ]
  },
  {
   "cell_type": "code",
   "execution_count": 70,
   "id": "2d6a6fed",
   "metadata": {},
   "outputs": [
    {
     "name": "stdout",
     "output_type": "stream",
     "text": [
      "75\n"
     ]
    }
   ],
   "source": [
    "print(np.count_nonzero(Temperature > 37.5))"
   ]
  },
  {
   "cell_type": "code",
   "execution_count": 71,
   "id": "9ce61ee6",
   "metadata": {},
   "outputs": [
    {
     "name": "stdout",
     "output_type": "stream",
     "text": [
      "['f036e873-74d1-4492-a508-238fd175fa9d'\n",
      " '2977de5c-9585-4374-b8ed-e9a5ae728f1a'\n",
      " '384b220d-c75d-4749-953f-81a840da3c16'\n",
      " 'fe896feb-69e1-423e-bc58-5231a254ad6e'\n",
      " '95812ad1-de5a-4e6d-8c82-47cf62a516e9'\n",
      " 'dd46a894-b01d-4b50-9bf7-e2f049f88293'\n",
      " 'c302b288-de68-4dfe-9270-e744ca767114'\n",
      " '3b3e5044-c2a7-4c1f-8539-8b714929969f'\n",
      " 'a243b536-993d-47cb-a44c-3f348d602e02'\n",
      " '2eb9cc81-8254-41fc-a068-146f7d008551'\n",
      " '1efd92eb-ae99-4f67-b743-ed0d8f8b0a01'\n",
      " '0c9e4f23-5307-4742-bc31-d30d819f56f3'\n",
      " '2c5d1f5f-3b6b-466b-b50f-77fd07d381a5'\n",
      " '1b98f8dd-a0c4-46b4-9d40-69c2c7be3fc0'\n",
      " 'ab8681f6-1431-4a2a-bf14-c11207d40b0d'\n",
      " 'c661b130-bf0f-4fcf-9c61-4ac3d4ec9b2e'\n",
      " '47b8f712-e0ce-4bc4-bc1e-9fd8b44a1c11'\n",
      " '53a43b9e-a6a3-4724-84a8-89da063b42f7'\n",
      " '18ab14af-0b02-4c21-97b1-f0fd2af119a2'\n",
      " '5737b44d-c102-49f2-b6db-c13d3fe11cbf'\n",
      " 'f0e3e029-e937-4985-bcbc-3f6a1f18b249'\n",
      " 'ec263245-b1ed-4897-b8f4-cc91f8ad4a70'\n",
      " 'da04fc7f-da5a-4035-8edd-ed7545971475'\n",
      " '410d519e-ccc8-4682-a42e-546631b634c8'\n",
      " '524ea1ca-2de7-4b5f-a103-68571215f20b'\n",
      " 'f4cbfca7-860e-402c-b3f6-c2e7917b9ad1'\n",
      " '4c8bf71c-c5bb-4132-b59d-01b201fab77c'\n",
      " '56d251d7-b1ec-4ddf-a2c5-82a82a7a580e'\n",
      " '12f87e74-44e0-4268-9fda-d97682e53f8d'\n",
      " 'e4902899-75b4-45ec-9b20-ce219f2d4c34'\n",
      " 'd2aa5232-2362-4840-88b3-7a1802897235'\n",
      " '70ddf172-d945-4df2-87b4-4204d8a151da'\n",
      " '0805c256-18e6-4b83-9aca-89fa7f25799a'\n",
      " '572ea80b-7bf2-4609-b297-762577f04bbe'\n",
      " '582a5dd0-c700-4b35-8a7c-c77cd6e78781'\n",
      " 'b0c893d6-712a-4285-9910-c3e3161f34cc'\n",
      " '0f9a1d31-0004-402a-800d-3d585e53ecf4'\n",
      " 'a1981072-406a-4941-a555-af3f71c7d41f'\n",
      " '548fbc9b-b18b-4a42-b907-752fbb33d9a5'\n",
      " '3a50ec16-8337-4237-b958-6a785c7f7f5e'\n",
      " 'a4c8f3ac-0662-46bf-a180-f4feaee63ddf'\n",
      " '04a187a8-9b6f-4d14-a3d2-530ba56d5914'\n",
      " '9227fc88-5121-4441-a272-259ee7efe7b2'\n",
      " '6d8bb4b7-bbe7-4590-9c17-20c03641a7f0'\n",
      " '282550b1-fe97-443f-8898-0e47547c04f1'\n",
      " '147036a4-7873-4f60-be40-9bfd445d59b7'\n",
      " '1a2f7ad5-eafe-4eb8-8ab2-9ab61e1d501f'\n",
      " '38cc7a1d-202f-41e9-b285-e1623aadcabf'\n",
      " '98dd8772-160f-4951-9d25-e3f59f061137'\n",
      " '36b40dd2-fd77-42bf-80e4-adf3c5ec5b34'\n",
      " 'd230e897-a844-4510-beff-128be5bed697'\n",
      " '5958aba2-24b0-47ec-8487-9f735ffca945'\n",
      " '103c3089-9b16-4ed0-9228-0655df561bed'\n",
      " '8983d428-fd12-4267-b484-4f09f258a717'\n",
      " '9277e928-81a0-4475-ab67-494cc25b5756'\n",
      " 'b3d2e37e-1b88-4535-ae73-06415ac5f758'\n",
      " '38cedaad-0407-4a1a-85e0-e04e2c0c7e11'\n",
      " '6e0d6d95-9624-46db-a4f5-9578faacf5b1'\n",
      " 'c6efdc0a-c15b-4d02-aad8-5947314028a6'\n",
      " 'b627737d-52fe-47ec-873a-290b25fe4d3e'\n",
      " '2fa35a40-e95b-4b54-98a6-dec3f39caabe'\n",
      " '54f06025-c673-4d15-a2b8-e48fef648bc6'\n",
      " 'ae8a1ee7-9f39-4b6a-856a-0d6959e6be4c'\n",
      " '57ae62a3-e86d-4f3f-a47e-74c615bb3c47'\n",
      " '047c1eb7-d957-4bf6-8fb2-c5d49c2834be'\n",
      " 'fb9437df-5335-4974-809f-c716c41b8287'\n",
      " '970f38fb-f800-4031-b51e-22c5fce148af'\n",
      " 'd20780c2-c4c6-4e95-a510-ac864f1b579f'\n",
      " 'cf928455-392c-4f6f-a645-a8cc04e61db5'\n",
      " '940e29dd-63df-4af1-924c-43deb04b9f26'\n",
      " '97c6f186-9484-434e-b544-3de8fea6af40'\n",
      " '0d442f8b-65d0-4ace-b2ab-1c9c88370dd3'\n",
      " '41cf9107-ebb3-4abf-acaf-41a234d52bf2'\n",
      " '6f39a831-56ec-40ad-9e00-1355fae7593d'\n",
      " 'fb735b25-ee70-469d-94b7-8429d6409e53']\n"
     ]
    }
   ],
   "source": [
    "print(identificativi[Temperature > 37.5])"
   ]
  },
  {
   "cell_type": "code",
   "execution_count": 72,
   "id": "fd910964",
   "metadata": {},
   "outputs": [],
   "source": [
    "cont = 0\n",
    "for t in Temperature:\n",
    "    if t > 37.5:\n",
    "        cont += 1\n",
    "    "
   ]
  },
  {
   "cell_type": "code",
   "execution_count": 74,
   "id": "c6b88295",
   "metadata": {},
   "outputs": [
    {
     "name": "stdout",
     "output_type": "stream",
     "text": [
      "2.04 ms ± 42.9 µs per loop (mean ± std. dev. of 7 runs, 1000 loops each)\n"
     ]
    }
   ],
   "source": [
    "%%timeit\n",
    "np.count_nonzero(Temperature > 37.5)"
   ]
  },
  {
   "cell_type": "code",
   "execution_count": null,
   "id": "54971404",
   "metadata": {},
   "outputs": [],
   "source": []
  }
 ],
 "metadata": {
  "kernelspec": {
   "display_name": "Python 3 (ipykernel)",
   "language": "python",
   "name": "python3"
  },
  "language_info": {
   "codemirror_mode": {
    "name": "ipython",
    "version": 3
   },
   "file_extension": ".py",
   "mimetype": "text/x-python",
   "name": "python",
   "nbconvert_exporter": "python",
   "pygments_lexer": "ipython3",
   "version": "3.9.7"
  }
 },
 "nbformat": 4,
 "nbformat_minor": 5
}
