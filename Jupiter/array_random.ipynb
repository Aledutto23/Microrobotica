{
 "cells": [
  {
   "cell_type": "code",
   "execution_count": 11,
   "id": "403e1214",
   "metadata": {},
   "outputs": [],
   "source": [
    "import numpy as np"
   ]
  },
  {
   "cell_type": "code",
   "execution_count": 12,
   "id": "6c1c07ee",
   "metadata": {},
   "outputs": [
    {
     "data": {
      "text/plain": [
       "[1, 2, 3, 4, 5]"
      ]
     },
     "execution_count": 12,
     "metadata": {},
     "output_type": "execute_result"
    }
   ],
   "source": [
    "lista = [1,2,3,4,5]\n",
    "lista_array = np.array(lista) #per passare da lista ad array usi il costruttore \n",
    "lista"
   ]
  },
  {
   "cell_type": "code",
   "execution_count": 13,
   "id": "3b933ce2",
   "metadata": {},
   "outputs": [
    {
     "data": {
      "text/plain": [
       "array([1, 2, 3, 4, 5])"
      ]
     },
     "execution_count": 13,
     "metadata": {},
     "output_type": "execute_result"
    }
   ],
   "source": [
    "lista_array #non è una lista, è un array numpy\n",
    "#anche per python sono oggetti diversi"
   ]
  },
  {
   "cell_type": "code",
   "execution_count": 14,
   "id": "8e9f9013",
   "metadata": {},
   "outputs": [
    {
     "data": {
      "text/plain": [
       "array([0, 0, 0, 0, 0, 0, 0, 0, 0, 0])"
      ]
     },
     "execution_count": 14,
     "metadata": {},
     "output_type": "execute_result"
    }
   ],
   "source": [
    "#np.zeros?per ottenere la documentazione sul metodo \n",
    "np.zeros(10, dtype=int) #array lungo 10 di tipo float di default, se lo specifichi diventa il tipo che dici\n"
   ]
  },
  {
   "cell_type": "code",
   "execution_count": 15,
   "id": "0048dc5e",
   "metadata": {},
   "outputs": [
    {
     "data": {
      "text/plain": [
       "array([[0., 0., 0., 0., 0., 0., 0., 0., 0., 0.],\n",
       "       [0., 0., 0., 0., 0., 0., 0., 0., 0., 0.],\n",
       "       [0., 0., 0., 0., 0., 0., 0., 0., 0., 0.],\n",
       "       [0., 0., 0., 0., 0., 0., 0., 0., 0., 0.],\n",
       "       [0., 0., 0., 0., 0., 0., 0., 0., 0., 0.]])"
      ]
     },
     "execution_count": 15,
     "metadata": {},
     "output_type": "execute_result"
    }
   ],
   "source": [
    "np.zeros((5,10), dtype=float) #matrice di 0, np.ones = array di 1"
   ]
  },
  {
   "cell_type": "code",
   "execution_count": 16,
   "id": "b4d38226",
   "metadata": {},
   "outputs": [
    {
     "data": {
      "text/plain": [
       "array([[1.],\n",
       "       [1.],\n",
       "       [1.],\n",
       "       [1.],\n",
       "       [1.]])"
      ]
     },
     "execution_count": 16,
     "metadata": {},
     "output_type": "execute_result"
    }
   ],
   "source": [
    "np.ones((5,1)) #le ia imparano con dati a molte dimensioni, per es nella tesla tutto ciò che riceve finisce in una matrice "
   ]
  },
  {
   "cell_type": "code",
   "execution_count": 17,
   "id": "7be978a2",
   "metadata": {},
   "outputs": [
    {
     "data": {
      "text/plain": [
       "0.8546439110565583"
      ]
     },
     "execution_count": 17,
     "metadata": {},
     "output_type": "execute_result"
    }
   ],
   "source": [
    "np.random.uniform() #numeri che si comportano come casuali, ma generati da un altgorimo deterministico, anche se \n",
    "                  #apparentemente sembrano casuali\n",
    "                  #calculus, libreria che serve per calcolare derivate e integrali"
   ]
  },
  {
   "cell_type": "code",
   "execution_count": 18,
   "id": "a9769f3a",
   "metadata": {},
   "outputs": [
    {
     "data": {
      "text/plain": [
       "array([0.40889212, 0.3817176 , 0.27246935, 0.23639009, 0.59152317,\n",
       "       0.83228341, 0.49181706, 0.83200093, 0.97385518, 0.23149167,\n",
       "       0.0578576 , 0.58545788, 0.06714588, 0.55200577, 0.39237748,\n",
       "       0.224768  , 0.63970519, 0.90557831, 0.06070681, 0.39391666,\n",
       "       0.03740532, 0.78357953, 0.39106618, 0.8763298 , 0.08562941,\n",
       "       0.20415807, 0.17156433, 0.13280203, 0.70938521, 0.93508258,\n",
       "       0.42564447, 0.41323661, 0.41462958, 0.85075202, 0.23255327,\n",
       "       0.48677399, 0.85158587, 0.3464536 , 0.66550494, 0.66320414,\n",
       "       0.74617955, 0.56860899, 0.90433117, 0.6508385 , 0.25212842,\n",
       "       0.549527  , 0.97201017, 0.38495893, 0.10223187, 0.08053131,\n",
       "       0.95326721, 0.20535896, 0.42308411, 0.08306066, 0.12304192,\n",
       "       0.29636545, 0.97048211, 0.67481723, 0.2929844 , 0.71195983,\n",
       "       0.56519536, 0.8025168 , 0.78939892, 0.0363992 , 0.71774023,\n",
       "       0.78041203, 0.70055847, 0.10413192, 0.40510019, 0.77293089,\n",
       "       0.368028  , 0.99594209, 0.83172914, 0.64113612, 0.84402587,\n",
       "       0.82529986, 0.20988706, 0.73599239, 0.80389426, 0.38228557,\n",
       "       0.22402076, 0.45846765, 0.92652616, 0.75644841, 0.10119102,\n",
       "       0.81161318, 0.63919762, 0.05664323, 0.04487202, 0.09512119,\n",
       "       0.39861235, 0.31169704, 0.74238937, 0.24645781, 0.75625741,\n",
       "       0.16207077, 0.1276669 , 0.47847532, 0.15423622, 0.41948499])"
      ]
     },
     "execution_count": 18,
     "metadata": {},
     "output_type": "execute_result"
    }
   ],
   "source": [
    "np.random.uniform(size = 100) #array di 100 numeri casuali, sempre numeri float"
   ]
  },
  {
   "cell_type": "code",
   "execution_count": 19,
   "id": "b81ca383",
   "metadata": {},
   "outputs": [
    {
     "data": {
      "text/plain": [
       "array([ 0.77181827,  2.34320722, -0.0875455 , -2.31253314,  0.60298684,\n",
       "       -0.63438058,  0.80455238, -0.34483773,  0.63094261,  0.6228273 ,\n",
       "       -0.08071125, -0.77156753,  0.22864126, -0.62781238, -1.87887145,\n",
       "        0.17884412, -2.10996115,  1.15884936,  0.96669351, -1.85435055,\n",
       "       -0.09940964, -0.6142827 , -0.69307895, -0.37367999, -1.06349612,\n",
       "       -2.12036264, -1.32249102, -1.48627913, -0.27660993, -1.54010699,\n",
       "        0.43950741,  0.47795769, -0.20578376,  0.54590296, -1.24593343,\n",
       "        2.41241832,  1.21720085, -0.53471437,  1.34731878, -0.99138248,\n",
       "       -1.63763217,  0.20721932,  0.36379146, -0.83424203,  0.61882931,\n",
       "        0.44737149, -0.75088822,  1.22178284, -0.88398406, -0.15176012,\n",
       "        1.55174693, -0.34146331,  0.31684762, -0.78566868,  0.81894344,\n",
       "        0.76958515,  0.9679384 , -0.59936654,  0.77904838, -0.64092212,\n",
       "       -1.95216894, -1.54712349,  0.49986285, -1.34689406,  1.66501381,\n",
       "       -0.36528542,  0.50335863, -0.85253614, -0.45510951, -1.03417582,\n",
       "        0.51037898, -1.11204458,  0.73077578,  1.08740966,  0.96757687,\n",
       "        1.4682775 , -0.40435241, -0.98413353,  1.51927357,  0.88393005,\n",
       "       -0.39918044,  0.48112736,  2.15680482, -1.67511442,  0.86119053,\n",
       "       -0.10838767,  0.75730672, -1.36428156, -0.5784976 ,  0.7410493 ,\n",
       "        1.08399512, -1.37003174,  0.42174749, -0.76150348,  1.08838174,\n",
       "        1.05946888, -2.20125949, -0.99504073, -0.20050833, -0.18902716])"
      ]
     },
     "execution_count": 19,
     "metadata": {},
     "output_type": "execute_result"
    }
   ],
   "source": [
    "np.random.normal(size = 100) #distribuzione gaussiana"
   ]
  },
  {
   "cell_type": "code",
   "execution_count": 20,
   "id": "7e4ec10d",
   "metadata": {},
   "outputs": [
    {
     "data": {
      "text/plain": [
       "array([5.39996434, 5.18657827, 5.85473378, 4.69061175, 3.50548069,\n",
       "       4.60998254, 4.65237709, 5.67066818, 4.87602582, 4.64795877,\n",
       "       5.02544805, 4.83925862, 3.47503978, 5.29328213, 6.22231156,\n",
       "       3.54191129, 6.43436452, 4.51446787, 4.78426275, 4.74273509,\n",
       "       5.28217733, 5.20480277, 3.16509425, 3.28198393, 4.91228106,\n",
       "       4.1336188 , 4.78399481, 4.68470289, 4.42542012, 5.30801604,\n",
       "       3.79621848, 4.7544655 , 5.2558523 , 5.97217344, 5.27883355,\n",
       "       4.68066028, 3.95114718, 6.07224489, 4.87183239, 6.21395253,\n",
       "       6.03442267, 6.20068846, 5.77313541, 4.79340963, 4.86465356,\n",
       "       3.59362275, 4.25831202, 3.67422778, 6.55178831, 5.71653111,\n",
       "       4.46715353, 5.1875556 , 3.81913064, 4.89190367, 4.41039469,\n",
       "       4.73024511, 6.87544981, 4.15100352, 3.83740448, 5.22500405,\n",
       "       5.03347859, 5.81190792, 5.71905792, 6.00465843, 6.45008011,\n",
       "       3.21942403, 3.7675646 , 5.55957773, 3.86265861, 3.82913733,\n",
       "       6.32960938, 4.19068954, 3.85054247, 6.77335376, 5.00670096,\n",
       "       4.58619705, 5.52516383, 6.76268667, 5.48002894, 7.04788694,\n",
       "       5.40091475, 4.70362961, 4.33115768, 4.72261463, 5.94456842,\n",
       "       5.05735274, 5.79395984, 4.32238666, 4.77415424, 3.90765436,\n",
       "       4.91343603, 4.75830336, 4.19194111, 5.3407922 , 4.75390023,\n",
       "       5.78308667, 3.39264943, 4.57972384, 6.29098892, 3.73591392])"
      ]
     },
     "execution_count": 20,
     "metadata": {},
     "output_type": "execute_result"
    }
   ],
   "source": [
    "np.random.normal(loc = 5, scale = 1, size = 100)"
   ]
  },
  {
   "cell_type": "code",
   "execution_count": 21,
   "id": "e586edfb",
   "metadata": {},
   "outputs": [
    {
     "name": "stderr",
     "output_type": "stream",
     "text": [
      "<ipython-input-21-8dd1f25e7908>:1: DeprecationWarning: This function is deprecated. Please call randint(1, 6 + 1) instead\n",
      "  np.random.random_integers(low=1,high=6,size=10) #simula lanci del dado, high è compreso, pure low, e sono distribuiti\n"
     ]
    },
    {
     "data": {
      "text/plain": [
       "array([3, 5, 1, 4, 6, 3, 4, 3, 4, 2])"
      ]
     },
     "execution_count": 21,
     "metadata": {},
     "output_type": "execute_result"
    }
   ],
   "source": [
    "np.random.random_integers(low=1,high=6,size=10) #simula lanci del dado, high è compreso, pure low, e sono distribuiti\n",
    "                                                #in maniera uniforme"
   ]
  },
  {
   "cell_type": "code",
   "execution_count": 31,
   "id": "be82bc69",
   "metadata": {},
   "outputs": [
    {
     "data": {
      "text/plain": [
       "'ciao'"
      ]
     },
     "execution_count": 31,
     "metadata": {},
     "output_type": "execute_result"
    }
   ],
   "source": [
    "np.random.choice((\"ciao\", \"addio\"))"
   ]
  },
  {
   "cell_type": "code",
   "execution_count": 32,
   "id": "1269b282",
   "metadata": {},
   "outputs": [
    {
     "data": {
      "text/plain": [
       "(4, 5)"
      ]
     },
     "execution_count": 32,
     "metadata": {},
     "output_type": "execute_result"
    }
   ],
   "source": [
    "matrice = np.random.uniform(size=(4,5))   \n",
    "np.shape(matrice)"
   ]
  },
  {
   "cell_type": "code",
   "execution_count": 33,
   "id": "47fcda6f",
   "metadata": {},
   "outputs": [
    {
     "data": {
      "text/plain": [
       "(5,)"
      ]
     },
     "execution_count": 33,
     "metadata": {},
     "output_type": "execute_result"
    }
   ],
   "source": [
    "vettore = np.array([1,2,3,4,5])\n",
    "np.shape(vettore)"
   ]
  },
  {
   "cell_type": "code",
   "execution_count": 34,
   "id": "81365e27",
   "metadata": {},
   "outputs": [
    {
     "data": {
      "text/plain": [
       "array([1, 2, 3, 4, 5])"
      ]
     },
     "execution_count": 34,
     "metadata": {},
     "output_type": "execute_result"
    }
   ],
   "source": [
    "vettore"
   ]
  },
  {
   "cell_type": "code",
   "execution_count": 35,
   "id": "d3440bff",
   "metadata": {},
   "outputs": [
    {
     "data": {
      "text/plain": [
       "5"
      ]
     },
     "execution_count": 35,
     "metadata": {},
     "output_type": "execute_result"
    }
   ],
   "source": [
    "np.size(vettore)"
   ]
  },
  {
   "cell_type": "code",
   "execution_count": 41,
   "id": "72c8c059",
   "metadata": {},
   "outputs": [
    {
     "name": "stdout",
     "output_type": "stream",
     "text": [
      "[3 2 3 ... 4 3 6]\n"
     ]
    }
   ],
   "source": [
    "lanci_dado = np.random.randint(1,7,10000)\n",
    "lanci_dado2 = np.random.randint(1,7,10000)\n",
    "print(lanci_dado)"
   ]
  },
  {
   "cell_type": "code",
   "execution_count": 42,
   "id": "e6c980c5",
   "metadata": {},
   "outputs": [
    {
     "data": {
      "text/plain": [
       "array([False, False, False, ..., False, False,  True])"
      ]
     },
     "execution_count": 42,
     "metadata": {},
     "output_type": "execute_result"
    }
   ],
   "source": [
    "lanci_dado == 6"
   ]
  },
  {
   "cell_type": "code",
   "execution_count": 43,
   "id": "0a3337bc",
   "metadata": {},
   "outputs": [
    {
     "data": {
      "text/plain": [
       "0.5036"
      ]
     },
     "execution_count": 43,
     "metadata": {},
     "output_type": "execute_result"
    }
   ],
   "source": [
    "np.count_nonzero(lanci_dado>=4)/10000"
   ]
  },
  {
   "cell_type": "code",
   "execution_count": 44,
   "id": "2f729506",
   "metadata": {},
   "outputs": [
    {
     "data": {
      "text/plain": [
       "0.16666666666666666"
      ]
     },
     "execution_count": 44,
     "metadata": {},
     "output_type": "execute_result"
    }
   ],
   "source": [
    "1/6"
   ]
  },
  {
   "cell_type": "code",
   "execution_count": 45,
   "id": "029ec166",
   "metadata": {},
   "outputs": [
    {
     "data": {
      "text/plain": [
       "array([False, False, False, ..., False,  True, False])"
      ]
     },
     "execution_count": 45,
     "metadata": {},
     "output_type": "execute_result"
    }
   ],
   "source": [
    "lanci_dado + lanci_dado2 == 8"
   ]
  },
  {
   "cell_type": "code",
   "execution_count": 46,
   "id": "fed22ed9",
   "metadata": {},
   "outputs": [
    {
     "data": {
      "text/plain": [
       "0.5878"
      ]
     },
     "execution_count": 46,
     "metadata": {},
     "output_type": "execute_result"
    }
   ],
   "source": [
    "np.count_nonzero(lanci_dado + lanci_dado2 > 6)/10000"
   ]
  }
 ],
 "metadata": {
  "kernelspec": {
   "display_name": "Python 3 (ipykernel)",
   "language": "python",
   "name": "python3"
  },
  "language_info": {
   "codemirror_mode": {
    "name": "ipython",
    "version": 3
   },
   "file_extension": ".py",
   "mimetype": "text/x-python",
   "name": "python",
   "nbconvert_exporter": "python",
   "pygments_lexer": "ipython3",
   "version": "3.9.7"
  }
 },
 "nbformat": 4,
 "nbformat_minor": 5
}
