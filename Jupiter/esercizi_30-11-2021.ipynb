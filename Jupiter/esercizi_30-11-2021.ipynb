{
 "cells": [
  {
   "cell_type": "code",
   "execution_count": 1,
   "id": "2bd2e70d",
   "metadata": {},
   "outputs": [],
   "source": [
    "import numpy as np\n"
   ]
  },
  {
   "cell_type": "markdown",
   "id": "ab3ec4fd",
   "metadata": {},
   "source": [
    "# esercizio 1"
   ]
  },
  {
   "cell_type": "code",
   "execution_count": 4,
   "id": "23bcfb63",
   "metadata": {},
   "outputs": [
    {
     "data": {
      "text/plain": [
       "432000"
      ]
     },
     "execution_count": 4,
     "metadata": {},
     "output_type": "execute_result"
    }
   ],
   "source": [
    "import numpy as np\n",
    "import random as rnd\n",
    "\n",
    "secondo = 1\n",
    "minuto = 60 * secondo\n",
    "ora = minuto * 60\n",
    "giorno = ora * 24\n",
    "tempo = giorno * 5\n",
    "\n",
    "tempo"
   ]
  },
  {
   "cell_type": "markdown",
   "id": "c3402770",
   "metadata": {},
   "source": [
    "# esercizio 2"
   ]
  },
  {
   "cell_type": "code",
   "execution_count": 2,
   "id": "fb88f2e6",
   "metadata": {},
   "outputs": [],
   "source": [
    "a = np.random.choice([-1,1], 432000)\n",
    "b = np.cumsum(a)\n",
    "b = -1    "
   ]
  },
  {
   "cell_type": "code",
   "execution_count": 3,
   "id": "1fcda5f8",
   "metadata": {},
   "outputs": [
    {
     "data": {
      "text/plain": [
       "array([1000,   25])"
      ]
     },
     "execution_count": 3,
     "metadata": {},
     "output_type": "execute_result"
    }
   ],
   "source": [
    "classi = 1000\n",
    "num_studenti = 25\n",
    "mat = np.array([1000, 25])\n",
    "mat"
   ]
  },
  {
   "cell_type": "markdown",
   "id": "8b2c24c7",
   "metadata": {},
   "source": [
    "### esercizio 3\n"
   ]
  },
  {
   "cell_type": "code",
   "execution_count": 7,
   "id": "09e596cb",
   "metadata": {},
   "outputs": [
    {
     "name": "stdout",
     "output_type": "stream",
     "text": [
      "punti di massimo : \n",
      "[1, 4]\n"
     ]
    }
   ],
   "source": [
    "import numpy as np\n",
    "\n",
    "def PuntiMassimo(n, arr): \n",
    "  \n",
    "    mx = [] \n",
    "    for i in range(1, n-1): \n",
    "        if(arr[i-1] < arr[i] > arr[i + 1]): \n",
    "            mx.append(i) \n",
    "  \n",
    " # stampo i massimi\n",
    "    if(len(mx) > 0): \n",
    "        print(\"punti di massimo : \") \n",
    "        print(mx) \n",
    "  \n",
    "   \n",
    "if __name__ == '__main__': \n",
    "  \n",
    "    N = 6\n",
    "    arr = np.array([0,2,1,1,3,2]) \n",
    "  \n",
    "    PuntiMassimo(N, arr)"
   ]
  },
  {
   "cell_type": "markdown",
   "id": "1d90d029",
   "metadata": {},
   "source": [
    "### "
   ]
  },
  {
   "cell_type": "markdown",
   "id": "eb22ce9b",
   "metadata": {},
   "source": [
    "# esercizio 4"
   ]
  },
  {
   "cell_type": "code",
   "execution_count": 5,
   "id": "ed63bc3f",
   "metadata": {},
   "outputs": [
    {
     "name": "stdout",
     "output_type": "stream",
     "text": [
      "[0 2 0 1 8 2 4 3 1 3 4 2]\n",
      "(array([ 1,  3,  5,  7,  8,  9, 11], dtype=int64),)\n"
     ]
    },
    {
     "name": "stderr",
     "output_type": "stream",
     "text": [
      "C:\\Users\\aledu\\AppData\\Local\\Temp/ipykernel_15760/3064496386.py:2: DeprecationWarning: This function is deprecated. Please call randint(0, 9 + 1) instead\n",
      "  a = np.random.random_integers(low=0,high=9, size=12)\n"
     ]
    }
   ],
   "source": [
    "import numpy as np\n",
    "a = np.random.random_integers(low=0,high=9, size=12)\n",
    "print(a)\n",
    "\n",
    "indice=np.where(np.isin(a,[1,2,3]))\n",
    "np.roll(a, -1)\n",
    "\n",
    "np.roll(a, 1)\n",
    "\n",
    "\n",
    "print(indice)\n"
   ]
  },
  {
   "cell_type": "markdown",
   "id": "6b6015ae",
   "metadata": {},
   "source": [
    "# esercizio 5"
   ]
  },
  {
   "cell_type": "code",
   "execution_count": 6,
   "id": "d137d707",
   "metadata": {},
   "outputs": [],
   "source": [
    "import random\n",
    "num_minuti = 24*60\n",
    "valore_0_1_non_percentuale = 1/100\n",
    "valore_0_2_non_percentuale = 1/200\n",
    "def num_random(a):\n",
    "    val = np.random.random()\n",
    "    if val < valore_0_1_non_percentuale:\n",
    "        return 9999\n",
    "    elif val < valore_0_2_non_percentuale:\n",
    "        return -1\n",
    "    else:\n",
    "        return np.random.randint(0,40)\n",
    "    \n"
   ]
  },
  {
   "cell_type": "code",
   "execution_count": null,
   "id": "fc485907",
   "metadata": {},
   "outputs": [],
   "source": []
  }
 ],
 "metadata": {
  "kernelspec": {
   "display_name": "Python 3 (ipykernel)",
   "language": "python",
   "name": "python3"
  },
  "language_info": {
   "codemirror_mode": {
    "name": "ipython",
    "version": 3
   },
   "file_extension": ".py",
   "mimetype": "text/x-python",
   "name": "python",
   "nbconvert_exporter": "python",
   "pygments_lexer": "ipython3",
   "version": "3.9.7"
  }
 },
 "nbformat": 4,
 "nbformat_minor": 5
}
